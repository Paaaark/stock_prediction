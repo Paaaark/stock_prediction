{
 "cells": [
  {
   "cell_type": "code",
   "execution_count": 4,
   "id": "765b389d",
   "metadata": {},
   "outputs": [],
   "source": [
    "f = open(\"../api_key.txt\", \"r\")\n",
    "api_key = f.readline()"
   ]
  },
  {
   "cell_type": "code",
   "execution_count": 46,
   "id": "278e1a79",
   "metadata": {},
   "outputs": [],
   "source": [
    "import requests\n",
    "import json\n",
    "from os.path import exists\n",
    "import matplotlib.pyplot as plt\n",
    "import pandas as pd\n",
    "import numpy as np"
   ]
  },
  {
   "cell_type": "code",
   "execution_count": 15,
   "id": "e82db6c2",
   "metadata": {},
   "outputs": [],
   "source": [
    "def grab_daily_data(company_label, api_key):\n",
    "    file_path = \"../data/\" + company_label + \".json\"\n",
    "    if exists(file_path):\n",
    "        f = open(file_path)\n",
    "        return json.load(f)\n",
    "    url = 'https://www.alphavantage.co/query?function=TIME_SERIES_DAILY&symbol=' + company_label + \"&outputsize=full&apikey=\" + api_key\n",
    "    r = requests.get(url)\n",
    "    data = r.json()\n",
    "    with open(\"../data/\" + company_label + \".json\", \"w\") as output_file:\n",
    "        json.dump(data, output_file)\n",
    "    return data"
   ]
  },
  {
   "cell_type": "code",
   "execution_count": 72,
   "id": "6313efc3",
   "metadata": {},
   "outputs": [],
   "source": [
    "def get_closing_price(target):\n",
    "    if isinstance(target, str):\n",
    "        target = grab_daily_data(target, api_key)\n",
    "    time_series = []\n",
    "    stock_prices = []\n",
    "    for day in data['Time Series (Daily)']:\n",
    "        time_series.append(day)\n",
    "        stock_prices.append(data['Time Series (Daily)'][day]['4. close'])\n",
    "    time_series = pd.to_datetime(time_series)\n",
    "    stock_prices = np.array(stock_prices).astype(float)\n",
    "    return time_series, stock_prices"
   ]
  },
  {
   "cell_type": "code",
   "execution_count": 75,
   "id": "a844f03d",
   "metadata": {},
   "outputs": [],
   "source": [
    "def plot_close_prices(target):\n",
    "    time_series, stock_prices = get_closing_price(target)\n",
    "    fig, ax = plt.subplots()\n",
    "    ax.plot(time_series, stock_prices)"
   ]
  },
  {
   "cell_type": "code",
   "execution_count": 83,
   "id": "3d1aaf99",
   "metadata": {},
   "outputs": [],
   "source": [
    "def preprocess_data(target):\n",
    "    time_series, stock_prices = get_closing_price(target)\n",
    "    x = []\n",
    "    y = []\n",
    "    for i in range(0, len(time_series) - 369):\n",
    "        x.append(stock_prices[0 + i:365+i])\n",
    "        y.append(sum(stock_prices[365+i: 370+i]) / 5)\n",
    "    return x, y"
   ]
  },
  {
   "cell_type": "code",
   "execution_count": 84,
   "id": "defcc3a1",
   "metadata": {},
   "outputs": [],
   "source": [
    "x, y = preprocess_data(\"IBM\")"
   ]
  }
 ],
 "metadata": {
  "kernelspec": {
   "display_name": "Python 3 (ipykernel)",
   "language": "python",
   "name": "python3"
  },
  "language_info": {
   "codemirror_mode": {
    "name": "ipython",
    "version": 3
   },
   "file_extension": ".py",
   "mimetype": "text/x-python",
   "name": "python",
   "nbconvert_exporter": "python",
   "pygments_lexer": "ipython3",
   "version": "3.9.7"
  }
 },
 "nbformat": 4,
 "nbformat_minor": 5
}
