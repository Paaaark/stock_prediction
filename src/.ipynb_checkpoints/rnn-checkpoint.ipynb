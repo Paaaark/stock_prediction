{
 "cells": [
  {
   "cell_type": "code",
   "execution_count": 4,
   "id": "fae5fdc1",
   "metadata": {},
   "outputs": [],
   "source": [
    "f = open(\"../api_key.txt\", \"r\")\n",
    "api_key = f.readline()"
   ]
  },
  {
   "cell_type": "code",
   "execution_count": 3,
   "id": "e5f631a1",
   "metadata": {},
   "outputs": [],
   "source": [
    "import requests\n",
    "import json\n",
    "from os.path import exists\n",
    "import matplotlib.pyplot as plt\n",
    "import pandas as pd\n",
    "import numpy as np\n",
    "import tensorflow as tf\n",
    "from tensorflow import keras\n",
    "from tensorflow.keras import layers\n",
    "\n",
    "from data_manager import grab_daily_data, get_stock_data, preprocess_data, preprocess_data_multiple"
   ]
  },
  {
   "cell_type": "code",
   "execution_count": 22,
   "id": "ec5dc3d8",
   "metadata": {},
   "outputs": [],
   "source": [
    "data = grab_daily_data('IBM', api_key)\n",
    "df = pd.DataFrame.from_dict(data['Time Series (Daily)'], orient='index')\n",
    "df = df.drop(labels='5. volume', axis=1)\n",
    "df = df.sort_index()"
   ]
  },
  {
   "cell_type": "code",
   "execution_count": 20,
   "id": "b4c02952",
   "metadata": {},
   "outputs": [],
   "source": [
    "df = df.drop(labels='5. volume', axis=1)"
   ]
  },
  {
   "cell_type": "code",
   "execution_count": 23,
   "id": "5d89cdcb",
   "metadata": {},
   "outputs": [
    {
     "data": {
      "text/html": [
       "<div>\n",
       "<style scoped>\n",
       "    .dataframe tbody tr th:only-of-type {\n",
       "        vertical-align: middle;\n",
       "    }\n",
       "\n",
       "    .dataframe tbody tr th {\n",
       "        vertical-align: top;\n",
       "    }\n",
       "\n",
       "    .dataframe thead th {\n",
       "        text-align: right;\n",
       "    }\n",
       "</style>\n",
       "<table border=\"1\" class=\"dataframe\">\n",
       "  <thead>\n",
       "    <tr style=\"text-align: right;\">\n",
       "      <th></th>\n",
       "      <th>1. open</th>\n",
       "      <th>2. high</th>\n",
       "      <th>3. low</th>\n",
       "      <th>4. close</th>\n",
       "    </tr>\n",
       "  </thead>\n",
       "  <tbody>\n",
       "    <tr>\n",
       "      <th>1999-11-01</th>\n",
       "      <td>98.5000</td>\n",
       "      <td>98.8100</td>\n",
       "      <td>96.3700</td>\n",
       "      <td>96.7500</td>\n",
       "    </tr>\n",
       "    <tr>\n",
       "      <th>1999-11-02</th>\n",
       "      <td>96.7500</td>\n",
       "      <td>96.8100</td>\n",
       "      <td>93.6900</td>\n",
       "      <td>94.8100</td>\n",
       "    </tr>\n",
       "    <tr>\n",
       "      <th>1999-11-03</th>\n",
       "      <td>95.8700</td>\n",
       "      <td>95.9400</td>\n",
       "      <td>93.5000</td>\n",
       "      <td>94.3700</td>\n",
       "    </tr>\n",
       "    <tr>\n",
       "      <th>1999-11-04</th>\n",
       "      <td>94.4400</td>\n",
       "      <td>94.4400</td>\n",
       "      <td>90.0000</td>\n",
       "      <td>91.5600</td>\n",
       "    </tr>\n",
       "    <tr>\n",
       "      <th>1999-11-05</th>\n",
       "      <td>92.7500</td>\n",
       "      <td>92.9400</td>\n",
       "      <td>90.1900</td>\n",
       "      <td>90.2500</td>\n",
       "    </tr>\n",
       "  </tbody>\n",
       "</table>\n",
       "</div>"
      ],
      "text/plain": [
       "            1. open  2. high   3. low 4. close\n",
       "1999-11-01  98.5000  98.8100  96.3700  96.7500\n",
       "1999-11-02  96.7500  96.8100  93.6900  94.8100\n",
       "1999-11-03  95.8700  95.9400  93.5000  94.3700\n",
       "1999-11-04  94.4400  94.4400  90.0000  91.5600\n",
       "1999-11-05  92.7500  92.9400  90.1900  90.2500"
      ]
     },
     "execution_count": 23,
     "metadata": {},
     "output_type": "execute_result"
    }
   ],
   "source": [
    "df.head()"
   ]
  },
  {
   "cell_type": "code",
   "execution_count": null,
   "id": "79ad18d2",
   "metadata": {},
   "outputs": [],
   "source": [
    "def get_compiled_model():\n",
    "    model = keras.Sequential()\n",
    "    #model.add(layers.Embedding(input_dim=(365,0), output_dim=(1,)))\n",
    "    model.add(layers.LSTM(128))\n",
    "    model.add(layers.Dense(64, activation='relu'))\n",
    "    model.compile(loss='mean_squared_error',\n",
    "                  metrics=[tf.keras.metrics.MeanSquaredError()],\n",
    "                  optimizer='adam')\n",
    "    return model"
   ]
  },
  {
   "cell_type": "code",
   "execution_count": null,
   "id": "9a752c6f",
   "metadata": {},
   "outputs": [],
   "source": [
    "def train_model(symbol, model, api_key, start=None, end=None):\n",
    "    if (start is None and end is not None) or (start is not None and end is None):\n",
    "        raise ValueError(\"start and end has to be both non-None or both None\")\n",
    "    x = y = []\n",
    "    if not isinstance(symbol, str):\n",
    "        x, y = preprocess_data_multiple(symbol, api_key)\n",
    "    else:\n",
    "        x, y, time_series = preprocess_data(symbol, api_key, start=start, end=end)\n",
    "    model.fit(np.asarray(x), np.asarray(y), epochs=30, batch_size=128)\n",
    "    return model"
   ]
  },
  {
   "cell_type": "code",
   "execution_count": null,
   "id": "59d8e577",
   "metadata": {},
   "outputs": [],
   "source": [
    "model = get_compiled_model()\n",
    "train_model([\"IBM\", \"META\", \"DIS\"], model, api_key)"
   ]
  },
  {
   "cell_type": "code",
   "execution_count": null,
   "id": "e1961aac",
   "metadata": {},
   "outputs": [],
   "source": [
    "x, y = preprocess_data_multiple(['IBM', 'META'], api_key)\n",
    "len(x[0])"
   ]
  }
 ],
 "metadata": {
  "kernelspec": {
   "display_name": "Python 3 (ipykernel)",
   "language": "python",
   "name": "python3"
  },
  "language_info": {
   "codemirror_mode": {
    "name": "ipython",
    "version": 3
   },
   "file_extension": ".py",
   "mimetype": "text/x-python",
   "name": "python",
   "nbconvert_exporter": "python",
   "pygments_lexer": "ipython3",
   "version": "3.9.7"
  }
 },
 "nbformat": 4,
 "nbformat_minor": 5
}
