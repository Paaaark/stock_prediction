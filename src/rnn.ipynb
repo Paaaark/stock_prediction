{
 "cells": [
  {
   "cell_type": "code",
   "execution_count": 1,
   "id": "fae5fdc1",
   "metadata": {},
   "outputs": [],
   "source": [
    "f = open(\"../api_key.txt\", \"r\")\n",
    "api_key = f.readline()"
   ]
  },
  {
   "cell_type": "code",
   "execution_count": 2,
   "id": "e5f631a1",
   "metadata": {},
   "outputs": [],
   "source": [
    "import requests\n",
    "import json\n",
    "from os.path import exists\n",
    "import matplotlib.pyplot as plt\n",
    "import pandas as pd\n",
    "import numpy as np\n",
    "import tensorflow as tf\n",
    "from tensorflow import keras\n",
    "from tensorflow.keras import layers\n",
    "from sklearn.preprocessing import MinMaxScaler\n",
    "\n",
    "from data_manager import grab_daily_data, get_stock_data, preprocess_data_rnn"
   ]
  },
  {
   "cell_type": "code",
   "execution_count": 14,
   "id": "7c6b06de",
   "metadata": {},
   "outputs": [
    {
     "data": {
      "text/html": [
       "<div>\n",
       "<style scoped>\n",
       "    .dataframe tbody tr th:only-of-type {\n",
       "        vertical-align: middle;\n",
       "    }\n",
       "\n",
       "    .dataframe tbody tr th {\n",
       "        vertical-align: top;\n",
       "    }\n",
       "\n",
       "    .dataframe thead th {\n",
       "        text-align: right;\n",
       "    }\n",
       "</style>\n",
       "<table border=\"1\" class=\"dataframe\">\n",
       "  <thead>\n",
       "    <tr style=\"text-align: right;\">\n",
       "      <th></th>\n",
       "      <th>open</th>\n",
       "      <th>high</th>\n",
       "      <th>low</th>\n",
       "      <th>close</th>\n",
       "      <th>target</th>\n",
       "    </tr>\n",
       "  </thead>\n",
       "  <tbody>\n",
       "    <tr>\n",
       "      <th>0</th>\n",
       "      <td>0.061754</td>\n",
       "      <td>0.063307</td>\n",
       "      <td>0.062995</td>\n",
       "      <td>0.063357</td>\n",
       "      <td>0.066334</td>\n",
       "    </tr>\n",
       "    <tr>\n",
       "      <th>1</th>\n",
       "      <td>0.063095</td>\n",
       "      <td>0.064631</td>\n",
       "      <td>0.066073</td>\n",
       "      <td>0.066334</td>\n",
       "      <td>0.069682</td>\n",
       "    </tr>\n",
       "    <tr>\n",
       "      <th>2</th>\n",
       "      <td>0.072860</td>\n",
       "      <td>0.070294</td>\n",
       "      <td>0.072614</td>\n",
       "      <td>0.069682</td>\n",
       "      <td>0.067662</td>\n",
       "    </tr>\n",
       "    <tr>\n",
       "      <th>3</th>\n",
       "      <td>0.074845</td>\n",
       "      <td>0.078869</td>\n",
       "      <td>0.068821</td>\n",
       "      <td>0.067662</td>\n",
       "      <td>0.056022</td>\n",
       "    </tr>\n",
       "    <tr>\n",
       "      <th>4</th>\n",
       "      <td>0.062773</td>\n",
       "      <td>0.060343</td>\n",
       "      <td>0.058157</td>\n",
       "      <td>0.056022</td>\n",
       "      <td>0.051717</td>\n",
       "    </tr>\n",
       "    <tr>\n",
       "      <th>5</th>\n",
       "      <td>0.054404</td>\n",
       "      <td>0.053726</td>\n",
       "      <td>0.054420</td>\n",
       "      <td>0.051717</td>\n",
       "      <td>0.052408</td>\n",
       "    </tr>\n",
       "    <tr>\n",
       "      <th>6</th>\n",
       "      <td>0.052365</td>\n",
       "      <td>0.053091</td>\n",
       "      <td>0.055079</td>\n",
       "      <td>0.052408</td>\n",
       "      <td>0.053737</td>\n",
       "    </tr>\n",
       "    <tr>\n",
       "      <th>7</th>\n",
       "      <td>0.052365</td>\n",
       "      <td>0.053409</td>\n",
       "      <td>0.055079</td>\n",
       "      <td>0.053737</td>\n",
       "      <td>0.056022</td>\n",
       "    </tr>\n",
       "    <tr>\n",
       "      <th>8</th>\n",
       "      <td>0.055047</td>\n",
       "      <td>0.054415</td>\n",
       "      <td>0.054749</td>\n",
       "      <td>0.056022</td>\n",
       "      <td>0.060009</td>\n",
       "    </tr>\n",
       "    <tr>\n",
       "      <th>9</th>\n",
       "      <td>0.057408</td>\n",
       "      <td>0.063307</td>\n",
       "      <td>0.058157</td>\n",
       "      <td>0.060009</td>\n",
       "      <td>0.064367</td>\n",
       "    </tr>\n",
       "    <tr>\n",
       "      <th>10</th>\n",
       "      <td>0.063095</td>\n",
       "      <td>0.066324</td>\n",
       "      <td>0.066073</td>\n",
       "      <td>0.064367</td>\n",
       "      <td>0.065696</td>\n",
       "    </tr>\n",
       "    <tr>\n",
       "      <th>11</th>\n",
       "      <td>0.065456</td>\n",
       "      <td>0.064313</td>\n",
       "      <td>0.067777</td>\n",
       "      <td>0.065696</td>\n",
       "      <td>0.065005</td>\n",
       "    </tr>\n",
       "    <tr>\n",
       "      <th>12</th>\n",
       "      <td>0.063471</td>\n",
       "      <td>0.065001</td>\n",
       "      <td>0.066073</td>\n",
       "      <td>0.065005</td>\n",
       "      <td>0.071011</td>\n",
       "    </tr>\n",
       "    <tr>\n",
       "      <th>13</th>\n",
       "      <td>0.065456</td>\n",
       "      <td>0.069289</td>\n",
       "      <td>0.068821</td>\n",
       "      <td>0.071011</td>\n",
       "      <td>0.068991</td>\n",
       "    </tr>\n",
       "    <tr>\n",
       "      <th>14</th>\n",
       "      <td>0.070177</td>\n",
       "      <td>0.069289</td>\n",
       "      <td>0.072285</td>\n",
       "      <td>0.068991</td>\n",
       "      <td>0.071649</td>\n",
       "    </tr>\n",
       "  </tbody>\n",
       "</table>\n",
       "</div>"
      ],
      "text/plain": [
       "        open      high       low     close    target\n",
       "0   0.061754  0.063307  0.062995  0.063357  0.066334\n",
       "1   0.063095  0.064631  0.066073  0.066334  0.069682\n",
       "2   0.072860  0.070294  0.072614  0.069682  0.067662\n",
       "3   0.074845  0.078869  0.068821  0.067662  0.056022\n",
       "4   0.062773  0.060343  0.058157  0.056022  0.051717\n",
       "5   0.054404  0.053726  0.054420  0.051717  0.052408\n",
       "6   0.052365  0.053091  0.055079  0.052408  0.053737\n",
       "7   0.052365  0.053409  0.055079  0.053737  0.056022\n",
       "8   0.055047  0.054415  0.054749  0.056022  0.060009\n",
       "9   0.057408  0.063307  0.058157  0.060009  0.064367\n",
       "10  0.063095  0.066324  0.066073  0.064367  0.065696\n",
       "11  0.065456  0.064313  0.067777  0.065696  0.065005\n",
       "12  0.063471  0.065001  0.066073  0.065005  0.071011\n",
       "13  0.065456  0.069289  0.068821  0.071011  0.068991\n",
       "14  0.070177  0.069289  0.072285  0.068991  0.071649"
      ]
     },
     "execution_count": 14,
     "metadata": {},
     "output_type": "execute_result"
    }
   ],
   "source": [
    "data = grab_daily_data('DIS', api_key)\n",
    "df = pd.DataFrame.from_dict(data['Time Series (Daily)'], orient='index')\n",
    "df = df.drop(labels='5. volume', axis=1)\n",
    "df = df.sort_index()\n",
    "df = df.astype(float)\n",
    "df['Target'] = df['4. close'].astype(float).shift(-1)\n",
    "df = df.dropna()\n",
    "scaler = MinMaxScaler()\n",
    "scaler = scaler.fit(df)\n",
    "arr = scaler.transform(df)\n",
    "df = pd.DataFrame(arr, columns=['open', 'high', 'low', 'close', 'target'])\n",
    "df.head(n=15)"
   ]
  },
  {
   "cell_type": "code",
   "execution_count": 4,
   "id": "3d0eebb0",
   "metadata": {},
   "outputs": [
    {
     "data": {
      "text/plain": [
       "5738"
      ]
     },
     "execution_count": 4,
     "metadata": {},
     "output_type": "execute_result"
    }
   ],
   "source": [
    "x, y = preprocess_data_rnn('IBM', api_key)\n",
    "len(x)"
   ]
  },
  {
   "cell_type": "code",
   "execution_count": 17,
   "id": "79ad18d2",
   "metadata": {},
   "outputs": [],
   "source": [
    "def get_compiled_model():\n",
    "    lstm_input = keras.Input(shape=(50,4), name=\"lstm_input\")\n",
    "    inputs = layers.LSTM(128, name=\"lstm_layer\")(lstm_input)\n",
    "    inputs = layers.Dense(128, name=\"dense_layer_1\")(inputs)\n",
    "    inputs = layers.Dense(1, name=\"dense_layer_2\")(inputs)\n",
    "    output = layers.Activation('linear', name='output')(inputs)\n",
    "    model = keras.Model(inputs=lstm_input, outputs=output)\n",
    "    model.compile(optimizer='adam', loss='mse')\n",
    "    return model"
   ]
  },
  {
   "cell_type": "code",
   "execution_count": 18,
   "id": "9a752c6f",
   "metadata": {},
   "outputs": [],
   "source": [
    "def train_model(symbol, model, api_key, epochs=30):\n",
    "    x, y = preprocess_data_rnn(symbol, api_key, lookback=50)\n",
    "    model.fit(np.asarray(x), np.asarray(y), epochs=epochs, batch_size=128, shuffle=True, validation_split=0.3)\n",
    "    return model"
   ]
  },
  {
   "cell_type": "code",
   "execution_count": 21,
   "id": "cf151dbe",
   "metadata": {},
   "outputs": [],
   "source": [
    "def predict_and_save(symbol, api_key, model, save=True):\n",
    "    x, y = preprocess_data_rnn(symbol, api_key, looback=50)\n",
    "    pred = model.predict(np.asarray(x))\n",
    "    plt.plot(np.reshape(y, (len(y))))\n",
    "    plt.plot(np.reshape(pred, (len(pred))))\n",
    "    plt.legend([\"Actual Price\", \"Predicted Price\"])\n",
    "    plt.show()\n",
    "    if save:\n",
    "        my_dict = {str(i): str(pred[i][0]) for i in range(0, len(pred))}\n",
    "        with open(\"../data/\" + symbol + \"_pred_rnn.json\", \"w\") as output_file:\n",
    "            json.dump(my_dict, output_file)"
   ]
  },
  {
   "cell_type": "code",
   "execution_count": 19,
   "id": "59d8e577",
   "metadata": {
    "scrolled": true
   },
   "outputs": [
    {
     "name": "stdout",
     "output_type": "stream",
     "text": [
      "Epoch 1/25\n",
      "32/32 [==============================] - 4s 73ms/step - loss: 0.0120 - val_loss: 0.0013\n",
      "Epoch 2/25\n",
      "32/32 [==============================] - 2s 62ms/step - loss: 6.0258e-04 - val_loss: 5.5202e-04\n",
      "Epoch 3/25\n",
      "32/32 [==============================] - 2s 58ms/step - loss: 3.6484e-04 - val_loss: 4.2349e-04\n",
      "Epoch 4/25\n",
      "32/32 [==============================] - 2s 61ms/step - loss: 3.5410e-04 - val_loss: 4.1203e-04\n",
      "Epoch 5/25\n",
      "32/32 [==============================] - 2s 59ms/step - loss: 3.4598e-04 - val_loss: 4.6035e-04\n",
      "Epoch 6/25\n",
      "32/32 [==============================] - 2s 65ms/step - loss: 3.4207e-04 - val_loss: 3.8803e-04\n",
      "Epoch 7/25\n",
      "32/32 [==============================] - 3s 81ms/step - loss: 3.3177e-04 - val_loss: 3.8665e-04\n",
      "Epoch 8/25\n",
      "32/32 [==============================] - 3s 80ms/step - loss: 3.1834e-04 - val_loss: 3.8360e-04\n",
      "Epoch 9/25\n",
      "32/32 [==============================] - 3s 80ms/step - loss: 3.2563e-04 - val_loss: 3.6482e-04\n",
      "Epoch 10/25\n",
      "32/32 [==============================] - 3s 82ms/step - loss: 3.1314e-04 - val_loss: 3.5687e-04\n",
      "Epoch 11/25\n",
      "32/32 [==============================] - 3s 81ms/step - loss: 3.0399e-04 - val_loss: 3.7284e-04\n",
      "Epoch 12/25\n",
      "32/32 [==============================] - 3s 81ms/step - loss: 3.0367e-04 - val_loss: 3.4773e-04\n",
      "Epoch 13/25\n",
      "32/32 [==============================] - 3s 83ms/step - loss: 2.9844e-04 - val_loss: 3.6356e-04\n",
      "Epoch 14/25\n",
      "32/32 [==============================] - 3s 81ms/step - loss: 2.9459e-04 - val_loss: 3.3091e-04\n",
      "Epoch 15/25\n",
      "32/32 [==============================] - 3s 82ms/step - loss: 2.8308e-04 - val_loss: 3.2040e-04\n",
      "Epoch 16/25\n",
      "32/32 [==============================] - 3s 81ms/step - loss: 2.7738e-04 - val_loss: 3.1763e-04\n",
      "Epoch 17/25\n",
      "32/32 [==============================] - 3s 81ms/step - loss: 2.9920e-04 - val_loss: 3.5708e-04\n",
      "Epoch 18/25\n",
      "32/32 [==============================] - 3s 81ms/step - loss: 2.7347e-04 - val_loss: 3.1048e-04\n",
      "Epoch 19/25\n",
      "32/32 [==============================] - 3s 79ms/step - loss: 2.6272e-04 - val_loss: 3.1050e-04\n",
      "Epoch 20/25\n",
      "32/32 [==============================] - 3s 80ms/step - loss: 2.6620e-04 - val_loss: 3.0348e-04\n",
      "Epoch 21/25\n",
      "32/32 [==============================] - 3s 80ms/step - loss: 2.6389e-04 - val_loss: 3.0037e-04\n",
      "Epoch 22/25\n",
      "32/32 [==============================] - 3s 79ms/step - loss: 2.5400e-04 - val_loss: 2.9495e-04\n",
      "Epoch 23/25\n",
      "32/32 [==============================] - 3s 79ms/step - loss: 2.6653e-04 - val_loss: 2.8445e-04\n",
      "Epoch 24/25\n",
      "32/32 [==============================] - 3s 80ms/step - loss: 2.5372e-04 - val_loss: 3.0549e-04\n",
      "Epoch 25/25\n",
      "32/32 [==============================] - 3s 81ms/step - loss: 2.4814e-04 - val_loss: 3.5718e-04\n"
     ]
    },
    {
     "data": {
      "text/plain": [
       "<keras.engine.functional.Functional at 0x1d17768ff10>"
      ]
     },
     "execution_count": 19,
     "metadata": {},
     "output_type": "execute_result"
    }
   ],
   "source": [
    "model = get_compiled_model()\n",
    "train_model('IBM', model, api_key, epochs=25)"
   ]
  },
  {
   "cell_type": "code",
   "execution_count": 22,
   "id": "e1961aac",
   "metadata": {},
   "outputs": [
    {
     "ename": "TypeError",
     "evalue": "preprocess_data_rnn() got an unexpected keyword argument 'looback'",
     "output_type": "error",
     "traceback": [
      "\u001b[1;31m---------------------------------------------------------------------------\u001b[0m",
      "\u001b[1;31mTypeError\u001b[0m                                 Traceback (most recent call last)",
      "Input \u001b[1;32mIn [22]\u001b[0m, in \u001b[0;36m<cell line: 1>\u001b[1;34m()\u001b[0m\n\u001b[1;32m----> 1\u001b[0m \u001b[43mpredict_and_save\u001b[49m\u001b[43m(\u001b[49m\u001b[38;5;124;43m'\u001b[39;49m\u001b[38;5;124;43mDIS\u001b[39;49m\u001b[38;5;124;43m'\u001b[39;49m\u001b[43m,\u001b[49m\u001b[43m \u001b[49m\u001b[43mapi_key\u001b[49m\u001b[43m,\u001b[49m\u001b[43m \u001b[49m\u001b[43mmodel\u001b[49m\u001b[43m,\u001b[49m\u001b[43m \u001b[49m\u001b[43msave\u001b[49m\u001b[38;5;241;43m=\u001b[39;49m\u001b[38;5;28;43;01mTrue\u001b[39;49;00m\u001b[43m)\u001b[49m\n",
      "Input \u001b[1;32mIn [21]\u001b[0m, in \u001b[0;36mpredict_and_save\u001b[1;34m(symbol, api_key, model, save)\u001b[0m\n\u001b[0;32m      1\u001b[0m \u001b[38;5;28;01mdef\u001b[39;00m \u001b[38;5;21mpredict_and_save\u001b[39m(symbol, api_key, model, save\u001b[38;5;241m=\u001b[39m\u001b[38;5;28;01mTrue\u001b[39;00m):\n\u001b[1;32m----> 2\u001b[0m     x, y \u001b[38;5;241m=\u001b[39m \u001b[43mpreprocess_data_rnn\u001b[49m\u001b[43m(\u001b[49m\u001b[43msymbol\u001b[49m\u001b[43m,\u001b[49m\u001b[43m \u001b[49m\u001b[43mapi_key\u001b[49m\u001b[43m,\u001b[49m\u001b[43m \u001b[49m\u001b[43mlooback\u001b[49m\u001b[38;5;241;43m=\u001b[39;49m\u001b[38;5;241;43m50\u001b[39;49m\u001b[43m)\u001b[49m\n\u001b[0;32m      3\u001b[0m     pred \u001b[38;5;241m=\u001b[39m model\u001b[38;5;241m.\u001b[39mpredict(np\u001b[38;5;241m.\u001b[39masarray(x))\n\u001b[0;32m      4\u001b[0m     plt\u001b[38;5;241m.\u001b[39mplot(np\u001b[38;5;241m.\u001b[39mreshape(y, (\u001b[38;5;28mlen\u001b[39m(y))))\n",
      "\u001b[1;31mTypeError\u001b[0m: preprocess_data_rnn() got an unexpected keyword argument 'looback'"
     ]
    }
   ],
   "source": [
    "predict_and_save('DIS', api_key, model, save=True)"
   ]
  }
 ],
 "metadata": {
  "kernelspec": {
   "display_name": "Python 3 (ipykernel)",
   "language": "python",
   "name": "python3"
  },
  "language_info": {
   "codemirror_mode": {
    "name": "ipython",
    "version": 3
   },
   "file_extension": ".py",
   "mimetype": "text/x-python",
   "name": "python",
   "nbconvert_exporter": "python",
   "pygments_lexer": "ipython3",
   "version": "3.9.7"
  }
 },
 "nbformat": 4,
 "nbformat_minor": 5
}
