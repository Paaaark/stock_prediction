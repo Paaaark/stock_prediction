{
 "cells": [
  {
   "cell_type": "code",
   "execution_count": 2,
   "id": "fae5fdc1",
   "metadata": {},
   "outputs": [],
   "source": [
    "f = open(\"../api_key.txt\", \"r\")\n",
    "api_key = f.readline()"
   ]
  },
  {
   "cell_type": "code",
   "execution_count": null,
   "id": "e5f631a1",
   "metadata": {},
   "outputs": [],
   "source": [
    "import requests\n",
    "import json\n",
    "from os.path import exists\n",
    "import matplotlib.pyplot as plt\n",
    "import pandas as pd\n",
    "import numpy as np\n",
    "import tensorflow as tf\n",
    "from tensorflow import keras\n",
    "from tensorflow.keras import layers\n",
    "\n",
    "from data_manager import grab_daily_data, get_stock_data, preprocess_data_rnn"
   ]
  },
  {
   "cell_type": "code",
   "execution_count": null,
   "id": "e9c13acc",
   "metadata": {},
   "outputs": [],
   "source": [
    "data = grab_daily_data('IBM', api_key)\n",
    "df = pd.DataFrame.from_dict(data['Time Series (Daily)'], orient='index')\n",
    "df = df.drop(labels='5. volume', axis=1)\n",
    "df = df.sort_index()\n",
    "df['Target'] = df['4. close'].shift(-1) \n",
    "df = df.dropna()\n",
    "df.tail(n = 10)"
   ]
  },
  {
   "cell_type": "code",
   "execution_count": 4,
   "id": "5d42e91c",
   "metadata": {},
   "outputs": [],
   "source": [
    "x, y = preprocess_data_rnn('IBM', api_key)"
   ]
  },
  {
   "cell_type": "code",
   "execution_count": 5,
   "id": "8db17b40",
   "metadata": {},
   "outputs": [
    {
     "name": "stdout",
     "output_type": "stream",
     "text": [
      "[[ 94.06]\n",
      " [ 94.62]\n",
      " [ 93.75]\n",
      " ...\n",
      " [128.45]\n",
      " [129.66]\n",
      " [127.79]]\n"
     ]
    }
   ],
   "source": [
    "print(y)"
   ]
  },
  {
   "cell_type": "code",
   "execution_count": 6,
   "id": "79ad18d2",
   "metadata": {},
   "outputs": [],
   "source": [
    "def get_compiled_model():\n",
    "    lstm_input = keras.Input(shape=(10,4), name=\"lstm_input\")\n",
    "    inputs = keras.LSTM(128, name=\"lstm_layer\")(lstm_input)\n",
    "    inputs = keras.Dense(1, name=\"dense_layer\")(inputs)\n",
    "    output = keras.Activation('linear', name='output')(inputs)\n",
    "    model = keras.Model(inputs=lstm_input, outputs=output)\n",
    "    model.compile(optimizer='adam', loss='mse')\n",
    "    return model"
   ]
  },
  {
   "cell_type": "code",
   "execution_count": 5,
   "id": "9a752c6f",
   "metadata": {},
   "outputs": [],
   "source": [
    "def train_model(symbol, model, api_key, start=None, end=None):\n",
    "    if (start is None and end is not None) or (start is not None and end is None):\n",
    "        raise ValueError(\"start and end has to be both non-None or both None\")\n",
    "    x, y = preprocess_data_rnn(symbol, api_key)\n",
    "    model.fit(np.asarray(x), np.asarray(y), epochs=30, batch_size=128)\n",
    "    return model"
   ]
  },
  {
   "cell_type": "code",
   "execution_count": null,
   "id": "59d8e577",
   "metadata": {},
   "outputs": [],
   "source": [
    "model = get_compiled_model()\n",
    "train_model(, model, api_key)"
   ]
  },
  {
   "cell_type": "code",
   "execution_count": null,
   "id": "e1961aac",
   "metadata": {},
   "outputs": [],
   "source": [
    "x, y = preprocess_data_multiple(['IBM', 'META'], api_key)\n",
    "len(x[0])"
   ]
  }
 ],
 "metadata": {
  "kernelspec": {
   "display_name": "Python 3 (ipykernel)",
   "language": "python",
   "name": "python3"
  },
  "language_info": {
   "codemirror_mode": {
    "name": "ipython",
    "version": 3
   },
   "file_extension": ".py",
   "mimetype": "text/x-python",
   "name": "python",
   "nbconvert_exporter": "python",
   "pygments_lexer": "ipython3",
   "version": "3.9.7"
  }
 },
 "nbformat": 4,
 "nbformat_minor": 5
}
