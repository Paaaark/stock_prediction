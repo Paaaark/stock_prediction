{
 "cells": [
  {
   "cell_type": "code",
   "execution_count": 1,
   "id": "27ebe513",
   "metadata": {},
   "outputs": [],
   "source": [
    "f = open(\"../api_key.txt\", \"r\")\n",
    "api_key = f.readline()"
   ]
  },
  {
   "cell_type": "code",
   "execution_count": 2,
   "id": "95061809",
   "metadata": {},
   "outputs": [],
   "source": [
    "import requests\n",
    "import json\n",
    "from os.path import exists\n",
    "import matplotlib.pyplot as plt\n",
    "import pandas as pd\n",
    "import numpy as np\n",
    "import tensorflow as tf\n",
    "from tensorflow import keras\n",
    "from tensorflow.keras import layers\n",
    "from sklearn.preprocessing import MinMaxScaler\n",
    "\n",
    "from data_manager import *\n",
    "from data_visualizer import *"
   ]
  },
  {
   "cell_type": "code",
   "execution_count": 3,
   "id": "deb041d7",
   "metadata": {},
   "outputs": [
    {
     "data": {
      "text/html": [
       "<div>\n",
       "<style scoped>\n",
       "    .dataframe tbody tr th:only-of-type {\n",
       "        vertical-align: middle;\n",
       "    }\n",
       "\n",
       "    .dataframe tbody tr th {\n",
       "        vertical-align: top;\n",
       "    }\n",
       "\n",
       "    .dataframe thead th {\n",
       "        text-align: right;\n",
       "    }\n",
       "</style>\n",
       "<table border=\"1\" class=\"dataframe\">\n",
       "  <thead>\n",
       "    <tr style=\"text-align: right;\">\n",
       "      <th></th>\n",
       "      <th>1. open</th>\n",
       "      <th>2. high</th>\n",
       "      <th>3. low</th>\n",
       "      <th>4. close</th>\n",
       "      <th>Target</th>\n",
       "    </tr>\n",
       "  </thead>\n",
       "  <tbody>\n",
       "    <tr>\n",
       "      <th>1999-11-01</th>\n",
       "      <td>25.31</td>\n",
       "      <td>26.06</td>\n",
       "      <td>24.94</td>\n",
       "      <td>25.69</td>\n",
       "      <td>26.25</td>\n",
       "    </tr>\n",
       "    <tr>\n",
       "      <th>1999-11-02</th>\n",
       "      <td>25.56</td>\n",
       "      <td>26.31</td>\n",
       "      <td>25.50</td>\n",
       "      <td>26.25</td>\n",
       "      <td>26.88</td>\n",
       "    </tr>\n",
       "    <tr>\n",
       "      <th>1999-11-03</th>\n",
       "      <td>27.38</td>\n",
       "      <td>27.38</td>\n",
       "      <td>26.69</td>\n",
       "      <td>26.88</td>\n",
       "      <td>26.50</td>\n",
       "    </tr>\n",
       "    <tr>\n",
       "      <th>1999-11-04</th>\n",
       "      <td>27.75</td>\n",
       "      <td>29.00</td>\n",
       "      <td>26.00</td>\n",
       "      <td>26.50</td>\n",
       "      <td>24.31</td>\n",
       "    </tr>\n",
       "    <tr>\n",
       "      <th>1999-11-05</th>\n",
       "      <td>25.50</td>\n",
       "      <td>25.50</td>\n",
       "      <td>24.06</td>\n",
       "      <td>24.31</td>\n",
       "      <td>23.50</td>\n",
       "    </tr>\n",
       "    <tr>\n",
       "      <th>1999-11-08</th>\n",
       "      <td>23.94</td>\n",
       "      <td>24.25</td>\n",
       "      <td>23.38</td>\n",
       "      <td>23.50</td>\n",
       "      <td>23.63</td>\n",
       "    </tr>\n",
       "    <tr>\n",
       "      <th>1999-11-09</th>\n",
       "      <td>23.56</td>\n",
       "      <td>24.13</td>\n",
       "      <td>23.50</td>\n",
       "      <td>23.63</td>\n",
       "      <td>23.88</td>\n",
       "    </tr>\n",
       "    <tr>\n",
       "      <th>1999-11-10</th>\n",
       "      <td>23.56</td>\n",
       "      <td>24.19</td>\n",
       "      <td>23.50</td>\n",
       "      <td>23.88</td>\n",
       "      <td>24.31</td>\n",
       "    </tr>\n",
       "    <tr>\n",
       "      <th>1999-11-11</th>\n",
       "      <td>24.06</td>\n",
       "      <td>24.38</td>\n",
       "      <td>23.44</td>\n",
       "      <td>24.31</td>\n",
       "      <td>25.06</td>\n",
       "    </tr>\n",
       "    <tr>\n",
       "      <th>1999-11-12</th>\n",
       "      <td>24.50</td>\n",
       "      <td>26.06</td>\n",
       "      <td>24.06</td>\n",
       "      <td>25.06</td>\n",
       "      <td>25.88</td>\n",
       "    </tr>\n",
       "    <tr>\n",
       "      <th>1999-11-15</th>\n",
       "      <td>25.56</td>\n",
       "      <td>26.63</td>\n",
       "      <td>25.50</td>\n",
       "      <td>25.88</td>\n",
       "      <td>26.13</td>\n",
       "    </tr>\n",
       "    <tr>\n",
       "      <th>1999-11-16</th>\n",
       "      <td>26.00</td>\n",
       "      <td>26.25</td>\n",
       "      <td>25.81</td>\n",
       "      <td>26.13</td>\n",
       "      <td>26.00</td>\n",
       "    </tr>\n",
       "    <tr>\n",
       "      <th>1999-11-17</th>\n",
       "      <td>25.63</td>\n",
       "      <td>26.38</td>\n",
       "      <td>25.50</td>\n",
       "      <td>26.00</td>\n",
       "      <td>27.13</td>\n",
       "    </tr>\n",
       "    <tr>\n",
       "      <th>1999-11-18</th>\n",
       "      <td>26.00</td>\n",
       "      <td>27.19</td>\n",
       "      <td>26.00</td>\n",
       "      <td>27.13</td>\n",
       "      <td>26.75</td>\n",
       "    </tr>\n",
       "    <tr>\n",
       "      <th>1999-11-19</th>\n",
       "      <td>26.88</td>\n",
       "      <td>27.19</td>\n",
       "      <td>26.63</td>\n",
       "      <td>26.75</td>\n",
       "      <td>27.25</td>\n",
       "    </tr>\n",
       "  </tbody>\n",
       "</table>\n",
       "</div>"
      ],
      "text/plain": [
       "            1. open  2. high  3. low  4. close  Target\n",
       "1999-11-01    25.31    26.06   24.94     25.69   26.25\n",
       "1999-11-02    25.56    26.31   25.50     26.25   26.88\n",
       "1999-11-03    27.38    27.38   26.69     26.88   26.50\n",
       "1999-11-04    27.75    29.00   26.00     26.50   24.31\n",
       "1999-11-05    25.50    25.50   24.06     24.31   23.50\n",
       "1999-11-08    23.94    24.25   23.38     23.50   23.63\n",
       "1999-11-09    23.56    24.13   23.50     23.63   23.88\n",
       "1999-11-10    23.56    24.19   23.50     23.88   24.31\n",
       "1999-11-11    24.06    24.38   23.44     24.31   25.06\n",
       "1999-11-12    24.50    26.06   24.06     25.06   25.88\n",
       "1999-11-15    25.56    26.63   25.50     25.88   26.13\n",
       "1999-11-16    26.00    26.25   25.81     26.13   26.00\n",
       "1999-11-17    25.63    26.38   25.50     26.00   27.13\n",
       "1999-11-18    26.00    27.19   26.00     27.13   26.75\n",
       "1999-11-19    26.88    27.19   26.63     26.75   27.25"
      ]
     },
     "execution_count": 3,
     "metadata": {},
     "output_type": "execute_result"
    }
   ],
   "source": [
    "data = grab_daily_data('DIS', api_key)\n",
    "df = pd.DataFrame.from_dict(data['Time Series (Daily)'], orient='index')\n",
    "df = df.drop(labels='5. volume', axis=1)\n",
    "df = df.sort_index()\n",
    "df = df.astype(float)\n",
    "df['Target'] = df['4. close'].astype(float).shift(-1)\n",
    "df = df.dropna()\n",
    "df.head(n=15)\n",
    "# scaler = MinMaxScaler()\n",
    "# scaler = scaler.fit(df)\n",
    "# arr = scaler.transform(df)\n",
    "# df = pd.DataFrame(arr, columns=['open', 'high', 'low', 'close', 'target'])"
   ]
  },
  {
   "cell_type": "code",
   "execution_count": 12,
   "id": "2ee65ced",
   "metadata": {},
   "outputs": [
    {
     "name": "stdout",
     "output_type": "stream",
     "text": [
      "[[25.31 26.06 24.94 25.69]\n",
      " [25.56 26.31 25.5  26.25]\n",
      " [27.38 27.38 26.69 26.88]\n",
      " [27.75 29.   26.   26.5 ]\n",
      " [25.5  25.5  24.06 24.31]\n",
      " [23.94 24.25 23.38 23.5 ]\n",
      " [23.56 24.13 23.5  23.63]\n",
      " [23.56 24.19 23.5  23.88]\n",
      " [24.06 24.38 23.44 24.31]\n",
      " [24.5  26.06 24.06 25.06]]\n",
      "[27.25]\n"
     ]
    }
   ],
   "source": [
    "x, y = preprocess_data_rnn('DIS', api_key, lookback=10, lookfront=5, normalize=False)\n",
    "print(x[0])\n",
    "print(y[0])"
   ]
  },
  {
   "cell_type": "code",
   "execution_count": 17,
   "id": "5326aaf6",
   "metadata": {},
   "outputs": [],
   "source": [
    "def get_compiled_model():\n",
    "    lstm_input = keras.Input(shape=(10,4), name=\"lstm_input\")\n",
    "    inputs = layers.LSTM(128, name=\"lstm_layer\")(lstm_input)\n",
    "    inputs = layers.Dense(128, name=\"dense_layer_1\")(inputs)\n",
    "    inputs = layers.Dense(1, name=\"dense_layer_2\")(inputs)\n",
    "    output = layers.Activation('linear', name='output')(inputs)\n",
    "    model = keras.Model(inputs=lstm_input, outputs=output)\n",
    "    model.compile(optimizer='adam', loss='mse')\n",
    "    return model"
   ]
  },
  {
   "cell_type": "code",
   "execution_count": 15,
   "id": "0506b49e",
   "metadata": {},
   "outputs": [],
   "source": [
    "def train_model(symbol, model, api_key, epochs=30):\n",
    "    x, y = preprocess_data_rnn(symbol, api_key, lookback=10, lookfront=5, normalize=False)\n",
    "    model.fit(np.asarray(x), np.asarray(y), epochs=epochs, batch_size=128, shuffle=True, validation_split=0.3)\n",
    "    return model"
   ]
  },
  {
   "cell_type": "code",
   "execution_count": 33,
   "id": "9c3ebf6c",
   "metadata": {},
   "outputs": [],
   "source": [
    "def predict_and_save(symbol, api_key, model, save=True):\n",
    "    x, y = preprocess_data_rnn(symbol, api_key, lookback=10, lookfront=5, normalize=False)\n",
    "    pred = model.predict(np.asarray(x))\n",
    "    plt.plot(np.reshape(y, (len(y))))\n",
    "    plt.plot(np.reshape(pred, (len(pred))))\n",
    "    print(len(y))\n",
    "    print(len(pred))\n",
    "    plt.legend([\"Actual Price\", \"Predicted Price\"])\n",
    "    plt.show()\n",
    "    if save:\n",
    "        my_dict = {str(i): str(pred[i][0]) for i in range(0, len(pred))}\n",
    "        with open(\"../data/\" + symbol + \"_pred_rnn_weekly.json\", \"w\") as output_file:\n",
    "            json.dump(my_dict, output_file)"
   ]
  },
  {
   "cell_type": "code",
   "execution_count": 25,
   "id": "2e0a9692",
   "metadata": {},
   "outputs": [
    {
     "name": "stdout",
     "output_type": "stream",
     "text": [
      "Epoch 1/20\n",
      "32/32 [==============================] - 2s 29ms/step - loss: 14047.7129 - val_loss: 10297.8223\n",
      "Epoch 2/20\n",
      "32/32 [==============================] - 1s 17ms/step - loss: 4304.8706 - val_loss: 556.3793\n",
      "Epoch 3/20\n",
      "32/32 [==============================] - 1s 18ms/step - loss: 1649.2174 - val_loss: 401.3977\n",
      "Epoch 4/20\n",
      "32/32 [==============================] - 1s 17ms/step - loss: 1052.9996 - val_loss: 134.3442\n",
      "Epoch 5/20\n",
      "32/32 [==============================] - 1s 18ms/step - loss: 262.8651 - val_loss: 30.7526\n",
      "Epoch 6/20\n",
      "32/32 [==============================] - 1s 18ms/step - loss: 44.9997 - val_loss: 33.0886\n",
      "Epoch 7/20\n",
      "32/32 [==============================] - 1s 19ms/step - loss: 28.5353 - val_loss: 25.5002\n",
      "Epoch 8/20\n",
      "32/32 [==============================] - 1s 17ms/step - loss: 25.8947 - val_loss: 26.3598\n",
      "Epoch 9/20\n",
      "32/32 [==============================] - 1s 19ms/step - loss: 24.9796 - val_loss: 28.3727\n",
      "Epoch 10/20\n",
      "32/32 [==============================] - 1s 22ms/step - loss: 23.6991 - val_loss: 28.5950\n",
      "Epoch 11/20\n",
      "32/32 [==============================] - 1s 20ms/step - loss: 26.3404 - val_loss: 26.4711\n",
      "Epoch 12/20\n",
      "32/32 [==============================] - 1s 20ms/step - loss: 23.6674 - val_loss: 27.0636\n",
      "Epoch 13/20\n",
      "32/32 [==============================] - 1s 21ms/step - loss: 24.8572 - val_loss: 25.6935\n",
      "Epoch 14/20\n",
      "32/32 [==============================] - 1s 19ms/step - loss: 22.8254 - val_loss: 27.4336\n",
      "Epoch 15/20\n",
      "32/32 [==============================] - 1s 18ms/step - loss: 22.6496 - val_loss: 25.9218\n",
      "Epoch 16/20\n",
      "32/32 [==============================] - 1s 19ms/step - loss: 23.3861 - val_loss: 39.4143\n",
      "Epoch 17/20\n",
      "32/32 [==============================] - 1s 18ms/step - loss: 26.6394 - val_loss: 34.8856\n",
      "Epoch 18/20\n",
      "32/32 [==============================] - 1s 18ms/step - loss: 22.9391 - val_loss: 25.8233\n",
      "Epoch 19/20\n",
      "32/32 [==============================] - 1s 19ms/step - loss: 22.8474 - val_loss: 27.7977\n",
      "Epoch 20/20\n",
      "32/32 [==============================] - 1s 21ms/step - loss: 22.8649 - val_loss: 27.2028\n"
     ]
    },
    {
     "data": {
      "text/plain": [
       "<keras.engine.functional.Functional at 0x19b2c443d60>"
      ]
     },
     "execution_count": 25,
     "metadata": {},
     "output_type": "execute_result"
    }
   ],
   "source": [
    "model = get_compiled_model()\n",
    "train_model('IBM', model, api_key, epochs=20)"
   ]
  },
  {
   "cell_type": "code",
   "execution_count": 35,
   "id": "50308ab3",
   "metadata": {},
   "outputs": [
    {
     "name": "stdout",
     "output_type": "stream",
     "text": [
      "180/180 [==============================] - 1s 3ms/step\n",
      "5733\n",
      "5733\n"
     ]
    },
    {
     "data": {
      "image/png": "[encoded data removed]",
      "text/plain": [
       "<Figure size 640x480 with 1 Axes>"
      ]
     },
     "metadata": {},
     "output_type": "display_data"
    }
   ],
   "source": [
    "predict_and_save('DIS', api_key, model)"
   ]
  }
 ],
 "metadata": {
  "kernelspec": {
   "display_name": "Python 3 (ipykernel)",
   "language": "python",
   "name": "python3"
  },
  "language_info": {
   "codemirror_mode": {
    "name": "ipython",
    "version": 3
   },
   "file_extension": ".py",
   "mimetype": "text/x-python",
   "name": "python",
   "nbconvert_exporter": "python",
   "pygments_lexer": "ipython3",
   "version": "3.9.7"
  }
 },
 "nbformat": 4,
 "nbformat_minor": 5
}
